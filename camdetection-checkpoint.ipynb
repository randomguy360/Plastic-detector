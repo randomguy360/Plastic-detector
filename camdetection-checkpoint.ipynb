{
 "cells": [
  {
   "cell_type": "code",
   "execution_count": 4,
   "id": "d517b4e2-2a6a-4ca1-bdbf-2dc5d5a417de",
   "metadata": {},
   "outputs": [
    {
     "name": "stdout",
     "output_type": "stream",
     "text": [
      "loading Roboflow workspace...\n",
      "loading Roboflow project...\n",
      "Failed to grab frame\n"
     ]
    }
   ],
   "source": [
    "import cv2\n",
    "import requests\n",
    "import numpy as np\n",
    "from roboflow import Roboflow\n",
    "\n",
    "# Initialize the Roboflow project\n",
    "rf = Roboflow(api_key=\"d1W6yFx7wbWgs7hjXQgz\")\n",
    "project = rf.workspace().project(\"platic-detector\")\n",
    "model = project.version(\"1\").model  # Replace \"1\" with the correct version number\n",
    "\n",
    "# ESP32-CAM IP address\n",
    "esp32_cam_url = \"http://192.168.1.155/1600x1200.jpg\"  # Replace <ESP32_CAM_IP> with your actual IP address\n",
    "\n",
    "# Initialize the video stream\n",
    "cap = cv2.VideoCapture(esp32_cam_url)\n",
    "\n",
    "while True:\n",
    "    ret, frame = cap.read()\n",
    "    if not ret:\n",
    "        print(\"Failed to grab frame\")\n",
    "        break\n",
    "\n",
    "    # Resize frame to fit the model input size (typically 640x640)\n",
    "    resized_frame = cv2.resize(frame, (640, 640))\n",
    "\n",
    "    # Convert the frame to a format the Roboflow API can process\n",
    "    img_array = cv2.cvtColor(resized_frame, cv2.COLOR_BGR2RGB)\n",
    "\n",
    "    # Send the frame to the Roboflow model\n",
    "    response = model.predict(img_array, confidence=40, overlap=30).json()\n",
    "\n",
    "    # Process the predictions\n",
    "    for prediction in response['predictions']:\n",
    "        x = prediction['x']\n",
    "        y = prediction['y']\n",
    "        width = prediction['width']\n",
    "        height = prediction['height']\n",
    "        label = prediction['class']\n",
    "\n",
    "        # Calculate coordinates\n",
    "        x1 = int(x - width / 2)\n",
    "        y1 = int(y - height / 2)\n",
    "        x2 = int(x + width / 2)\n",
    "        y2 = int(y + height / 2)\n",
    "\n",
    "        # Draw the bounding box\n",
    "        cv2.rectangle(frame, (x1, y1), (x2, y2), (0, 255, 0), 2)\n",
    "        cv2.putText(frame, label, (x1, y1 - 10), cv2.FONT_HERSHEY_SIMPLEX, 0.9, (0, 255, 0), 2)\n",
    "\n",
    "        # Assuming Z-coordinate as depth (not directly available from 2D images)\n",
    "        # You could calculate depth if using stereo cameras or other sensors\n",
    "        z = 0  # Placeholder for Z-coordinate\n",
    "\n",
    "        # Display coordinates\n",
    "        cv2.putText(frame, f\"X:{x} Y:{y} Z:{z}\", (x1, y1 - 30), cv2.FONT_HERSHEY_SIMPLEX, 0.9, (0, 255, 0), 2)\n",
    "\n",
    "    # Display the frame with bounding boxes\n",
    "    cv2.imshow(\"ESP32-CAM Plastic Detection\", frame)\n",
    "\n",
    "    # Press 'q' to exit\n",
    "    if cv2.waitKey(1) & 0xFF == ord('q'):\n",
    "        break\n",
    "\n",
    "cap.release()\n",
    "cv2.destroyAllWindows()\n"
   ]
  },
  {
   "cell_type": "code",
   "execution_count": null,
   "id": "92ae83c5-2e12-46bd-a216-2095553adb6b",
   "metadata": {},
   "outputs": [],
   "source": []
  },
  {
   "cell_type": "code",
   "execution_count": null,
   "id": "52b542ce-11f7-4b91-887b-a097fd15551f",
   "metadata": {},
   "outputs": [],
   "source": []
  }
 ],
 "metadata": {
  "kernelspec": {
   "display_name": "Python 3 (ipykernel)",
   "language": "python",
   "name": "python3"
  },
  "language_info": {
   "codemirror_mode": {
    "name": "ipython",
    "version": 3
   },
   "file_extension": ".py",
   "mimetype": "text/x-python",
   "name": "python",
   "nbconvert_exporter": "python",
   "pygments_lexer": "ipython3",
   "version": "3.9.7"
  }
 },
 "nbformat": 4,
 "nbformat_minor": 5
}
